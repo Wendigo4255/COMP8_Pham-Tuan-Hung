{
  "nbformat": 4,
  "nbformat_minor": 0,
  "metadata": {
    "colab": {
      "provenance": []
    },
    "kernelspec": {
      "name": "python3",
      "display_name": "Python 3"
    },
    "language_info": {
      "name": "python"
    }
  },
  "cells": [
    {
      "cell_type": "code",
      "source": [
        "#1\n",
        "a = (input(\"nhap so nguyen: \"))\n",
        "b = int(str(a)[::-1])\n",
        "print(b)"
      ],
      "metadata": {
        "id": "pLfp0Cym0_xu",
        "colab": {
          "base_uri": "https://localhost:8080/"
        },
        "outputId": "89ba3191-d1fa-456e-c387-a86cf43233b1"
      },
      "execution_count": 28,
      "outputs": [
        {
          "output_type": "stream",
          "name": "stdout",
          "text": [
            "nhap so nguyen: 1234\n",
            "4321\n"
          ]
        }
      ]
    },
    {
      "cell_type": "code",
      "execution_count": 33,
      "metadata": {
        "colab": {
          "base_uri": "https://localhost:8080/"
        },
        "id": "jNFv9KJ1zZwm",
        "outputId": "3ce3ebfa-ada8-4cda-f580-a2b3faebac09"
      },
      "outputs": [
        {
          "output_type": "stream",
          "name": "stdout",
          "text": [
            "nhap a: 121212\n",
            "nhap b: 232323\n",
            "232323 121212\n"
          ]
        }
      ],
      "source": [
        "#2\n",
        "a = int(input(\"nhap a: \"))\n",
        "b = int(input(\"nhap b: \"))\n",
        "a = a ^ b\n",
        "b = a ^ b\n",
        "a = a ^ b\n",
        "\n",
        "print(a,b)"
      ]
    },
    {
      "cell_type": "code",
      "source": [
        "#3\n",
        "n = int(input(\"nhap n: \"))\n",
        "if n & (n-1) == 0:\n",
        "    print(\"true\")\n",
        "else:\n",
        "    print(\"false\")"
      ],
      "metadata": {
        "colab": {
          "base_uri": "https://localhost:8080/"
        },
        "id": "yMRTxNGYVc3z",
        "outputId": "24225549-d3d8-4922-e776-c09d90f30ffa"
      },
      "execution_count": null,
      "outputs": [
        {
          "output_type": "stream",
          "name": "stdout",
          "text": [
            "nhap n: 9\n",
            "false\n"
          ]
        }
      ]
    },
    {
      "cell_type": "code",
      "source": [
        "#4\n",
        "m = float(input(\"nhap m: \"))\n",
        "n = float(input(\"nhap n: \"))\n",
        "f = m/n\n",
        "import math\n",
        "fg = math.floor(f)\n",
        "print(fg)"
      ],
      "metadata": {
        "colab": {
          "base_uri": "https://localhost:8080/"
        },
        "id": "M8_OJIBAWR1g",
        "outputId": "afb1aa51-0ef8-4485-d2f7-157267bcc5ab"
      },
      "execution_count": null,
      "outputs": [
        {
          "output_type": "stream",
          "name": "stdout",
          "text": [
            "nhap m: 4\n",
            "nhap n: 3\n",
            "1\n"
          ]
        }
      ]
    },
    {
      "cell_type": "code",
      "source": [
        "#5\n",
        "m = float(input(\"nhap m: \"))\n",
        "n = float(input(\"nhap n: \"))\n",
        "f = m/n\n",
        "import math\n",
        "fg = math.ceil(f)\n",
        "print(fg)"
      ],
      "metadata": {
        "colab": {
          "base_uri": "https://localhost:8080/"
        },
        "id": "2SW1dDGIZQuz",
        "outputId": "f5bbf8df-fce8-490f-e18e-fc4a078ff2eb"
      },
      "execution_count": null,
      "outputs": [
        {
          "output_type": "stream",
          "name": "stdout",
          "text": [
            "nhap m: 4\n",
            "nhap n: 3\n",
            "2\n"
          ]
        }
      ]
    },
    {
      "cell_type": "code",
      "source": [
        "#6\n",
        "x = float(input(\"nhap x: \"))\n",
        "if x % 2 == 0:\n",
        "    print(\"even\")\n",
        "else:\n",
        "    print(\"odd\")"
      ],
      "metadata": {
        "colab": {
          "base_uri": "https://localhost:8080/"
        },
        "id": "-6kp7-xwZzuX",
        "outputId": "fc179b6c-54a1-4e5b-a344-e235202acaec"
      },
      "execution_count": null,
      "outputs": [
        {
          "output_type": "stream",
          "name": "stdout",
          "text": [
            "nhap x: 3\n",
            "odd\n"
          ]
        }
      ]
    },
    {
      "cell_type": "code",
      "source": [
        "#7\n",
        "a = float(input(\"nhap a: \"))\n",
        "b = float(input(\"nhap b: \"))\n",
        "if a < 0 and b < 0:\n",
        "  print(\"yes\")\n",
        "else:\n",
        "  print(\"no\")"
      ],
      "metadata": {
        "colab": {
          "base_uri": "https://localhost:8080/"
        },
        "id": "bx2pqlUjaU8y",
        "outputId": "03e4bc05-5035-47d1-e601-2cce902f6c2f"
      },
      "execution_count": null,
      "outputs": [
        {
          "output_type": "stream",
          "name": "stdout",
          "text": [
            "nhap a: -1\n",
            "nhap b: 2\n",
            "no\n"
          ]
        }
      ]
    },
    {
      "cell_type": "code",
      "source": [
        "#8\n",
        "a = str(input(\"nhap a: \"))\n",
        "b = str(input(\"nhap b: \"))\n",
        "if a > b:\n",
        "  print(\"true\")\n",
        "else:\n",
        "  print(\"false\")"
      ],
      "metadata": {
        "colab": {
          "base_uri": "https://localhost:8080/"
        },
        "id": "xacsRZoEbLYH",
        "outputId": "698a5ecd-a6cc-469e-8d28-eefbc1b99857"
      },
      "execution_count": null,
      "outputs": [
        {
          "output_type": "stream",
          "name": "stdout",
          "text": [
            "nhap a: cat\n",
            "nhap b: dog\n",
            "false\n"
          ]
        }
      ]
    },
    {
      "cell_type": "code",
      "source": [
        "#9\n",
        "a = int(input(\"nhap a: \"))\n",
        "b = int(input(\"nhap b: \"))\n",
        "c = int(input(\"nhap c: \"))\n",
        "if a + b>c and a+c>b and b+c>a:\n",
        "  print(\"yes\")\n",
        "else:\n",
        "  print(\"no\")"
      ],
      "metadata": {
        "colab": {
          "base_uri": "https://localhost:8080/"
        },
        "id": "DEYesL6BcN3F",
        "outputId": "b37f60ce-4e12-4726-fead-2940f670f55d"
      },
      "execution_count": null,
      "outputs": [
        {
          "output_type": "stream",
          "name": "stdout",
          "text": [
            "nhap a: 6\n",
            "nhap b: 9\n",
            "nhap c: 5\n",
            "yes\n"
          ]
        }
      ]
    },
    {
      "cell_type": "code",
      "source": [
        "#10\n",
        "tap_so_nguyen = list(map(int, input(\"nhap tap so nguyen: \").split()))\n",
        "print(max(tap_so_nguyen))"
      ],
      "metadata": {
        "colab": {
          "base_uri": "https://localhost:8080/"
        },
        "id": "Q-E-_gFadAJa",
        "outputId": "b5a82a2c-01f7-444c-c087-83ca65c17d59"
      },
      "execution_count": null,
      "outputs": [
        {
          "output_type": "stream",
          "name": "stdout",
          "text": [
            "nhap tap so nguyen: 1 11000 2 3\n",
            "11000\n"
          ]
        }
      ]
    },
    {
      "cell_type": "code",
      "source": [
        "#11\n",
        "a = int(input(\"nhap a: \"))\n",
        "b = int(input(\"nhap b: \"))\n",
        "c = int(input(\"nhap c: \"))\n",
        "if a + b>c and a+c>b and b+c>a:\n",
        "  if a == b or a ==c or b==c:\n",
        "    if a == b == c:\n",
        "      print(\"tam giac deu\")\n",
        "    else:\n",
        "      print(\"tam giac can\")\n",
        "  else:\n",
        "    print(\"tam giac thuong\")\n",
        "else:\n",
        "  print(\"khong phai tam giac\")"
      ],
      "metadata": {
        "id": "59VcMKOddW09",
        "colab": {
          "base_uri": "https://localhost:8080/"
        },
        "outputId": "6594840b-09ce-457b-ba9f-15c2f5acd9a0"
      },
      "execution_count": 8,
      "outputs": [
        {
          "output_type": "stream",
          "name": "stdout",
          "text": [
            "nhap a: 1\n",
            "nhap b: 2\n",
            "nhap c: 3\n",
            "khong phai tam giac\n"
          ]
        }
      ]
    },
    {
      "cell_type": "code",
      "source": [
        "#12\n",
        "x = int(input(\"nam: \"))\n",
        "if x % 400 == 0:\n",
        "    print(\"nhuan\")\n",
        "else:\n",
        "    print(\"khong nhuan\")"
      ],
      "metadata": {
        "colab": {
          "base_uri": "https://localhost:8080/"
        },
        "id": "2qJU6o3fd53g",
        "outputId": "77f36135-0254-412b-ed38-44af0a6d0cff"
      },
      "execution_count": null,
      "outputs": [
        {
          "output_type": "stream",
          "name": "stdout",
          "text": [
            "nam: 2000\n",
            "nhuan\n"
          ]
        }
      ]
    },
    {
      "cell_type": "code",
      "source": [
        "#13\n",
        "x = int(input(\"so dien tieu thu: \"))\n",
        "if 0 <= x <= 50:\n",
        "  print(\"tien dien: \", x*1500)\n",
        "elif 51 <= x <= 100:\n",
        "  print(\"tien dien: \", 50*1500+(x-50)*2000)\n",
        "else:\n",
        "  print(\"tien dien: \", 50*1500+50*2000+(x-100)*3000)"
      ],
      "metadata": {
        "colab": {
          "base_uri": "https://localhost:8080/"
        },
        "id": "ZfsNSdfoh6sq",
        "outputId": "9b0b2055-638a-4296-f0ed-3d0e8c2b6863"
      },
      "execution_count": null,
      "outputs": [
        {
          "output_type": "stream",
          "name": "stdout",
          "text": [
            "so dien tieu thu: 120\n",
            "tien dien:  235000\n"
          ]
        }
      ]
    },
    {
      "cell_type": "code",
      "source": [
        "#14\n",
        "a = float(input(\"nhap a: \"))\n",
        "b = float(input(\"nhap b: \"))\n",
        "if a == 0:\n",
        "  if b == 0:\n",
        "    print(\"vo so nghiem\")\n",
        "  else:\n",
        "    print(\"vo nghiem\")\n",
        "else:\n",
        "  print(-b/a)\n"
      ],
      "metadata": {
        "id": "p_UiNJ9sjkw1",
        "colab": {
          "base_uri": "https://localhost:8080/"
        },
        "outputId": "892b7b0f-2b4d-407f-902c-75ac5c85c9f2"
      },
      "execution_count": 12,
      "outputs": [
        {
          "output_type": "stream",
          "name": "stdout",
          "text": [
            "nhap a: 3.2\n",
            "nhap b: 4.7\n",
            "-1.46875\n"
          ]
        }
      ]
    },
    {
      "cell_type": "code",
      "source": [
        "#15\n",
        "x = float(input(\"diem hoc luc: \"))\n",
        "if 8.0 <= x :\n",
        "  print(\"hoc luc: gioi\" )\n",
        "elif 6.5<= x <8.0:\n",
        "  print(\"hoc luc: kha\" )\n",
        "elif 5.0 <= x <6.5:\n",
        "  print(\"hoc luc: tb\" )\n",
        "else:\n",
        "  print(\"hoc luc: yeu\" )"
      ],
      "metadata": {
        "colab": {
          "base_uri": "https://localhost:8080/"
        },
        "id": "LsnEyQKajz-2",
        "outputId": "ce0bd4b4-258e-4d78-d441-bcf6dea2128f"
      },
      "execution_count": null,
      "outputs": [
        {
          "output_type": "stream",
          "name": "stdout",
          "text": [
            "diem hoc luc: 2\n",
            "hoc luc: yeu\n"
          ]
        }
      ]
    },
    {
      "cell_type": "code",
      "source": [
        "#16\n",
        "a = float(input(\"so thuc: \"))\n",
        "import math\n",
        "if a-math.floor(a) > math.ceil(a)-a:\n",
        "  print(math.ceil(a) ,math.floor(a), math.ceil(a))\n",
        "else:\n",
        "  print(math.ceil(a) ,math.floor(a), math.floor(a))"
      ],
      "metadata": {
        "id": "DiEAXkcllBMW",
        "colab": {
          "base_uri": "https://localhost:8080/"
        },
        "outputId": "879bf1e9-5ca9-4049-d49e-29320723bf28"
      },
      "execution_count": 17,
      "outputs": [
        {
          "output_type": "stream",
          "name": "stdout",
          "text": [
            "so thuc: 8.2\n",
            "9 8 8\n"
          ]
        }
      ]
    },
    {
      "cell_type": "code",
      "source": [
        "#17\n",
        "a = int(input(\"nhap a: \"))\n",
        "b = int(input(\"nhap b: \"))\n",
        "c = int(input(\"nhap c: \"))\n",
        "if a + b>c and a+c>b and b+c>a:\n",
        "  if a == b or a ==c or b==c:\n",
        "    if a == b == c:\n",
        "      print(\"tam giac deu\")\n",
        "    else:\n",
        "      print(\"tam giac can\")\n",
        "  else:\n",
        "    print(\"tam giac thuong\")\n",
        "else:\n",
        "  print(\"khong phai tam giac\")"
      ],
      "metadata": {
        "id": "G9r4m04EXUa3"
      },
      "execution_count": null,
      "outputs": []
    }
  ]
}