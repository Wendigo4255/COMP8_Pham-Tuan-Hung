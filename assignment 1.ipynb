{
  "nbformat": 4,
  "nbformat_minor": 0,
  "metadata": {
    "colab": {
      "provenance": []
    },
    "kernelspec": {
      "name": "python3",
      "display_name": "Python 3"
    },
    "language_info": {
      "name": "python"
    }
  },
  "cells": [
    {
      "cell_type": "code",
      "execution_count": 2,
      "metadata": {
        "colab": {
          "base_uri": "https://localhost:8080/"
        },
        "id": "4t9BBoUtkShf",
        "outputId": "359e8487-6083-4f88-f6cd-7baaaeb4796a"
      },
      "outputs": [
        {
          "output_type": "stream",
          "name": "stdout",
          "text": [
            "hello world!\n"
          ]
        }
      ],
      "source": [
        "#W2A1\n",
        "print(\"hello world!\")"
      ]
    },
    {
      "cell_type": "code",
      "source": [
        "#W2A2\n",
        "Username = input(\"Username: \")\n",
        "print(\"Hello\", Username)"
      ],
      "metadata": {
        "colab": {
          "base_uri": "https://localhost:8080/"
        },
        "id": "sD1Ah7PaksYn",
        "outputId": "c3ecfde4-5b50-4b01-c213-0a0494a74e30"
      },
      "execution_count": 41,
      "outputs": [
        {
          "output_type": "stream",
          "name": "stdout",
          "text": [
            "Username: chim\n",
            "Hello chim\n"
          ]
        }
      ]
    },
    {
      "cell_type": "code",
      "source": [
        "from ast import Name\n",
        "#W2A10\n",
        "Friendnames = input(\"Enter friends name: \")\n",
        "names = Friendnames.split()\n",
        "names.reverse()\n",
        "for name in names:\n",
        "  print(name)"
      ],
      "metadata": {
        "colab": {
          "base_uri": "https://localhost:8080/"
        },
        "id": "maACZR9bmQ_-",
        "outputId": "7fb66fa4-3f45-4d21-f4e3-08456315e3a9"
      },
      "execution_count": 46,
      "outputs": [
        {
          "output_type": "stream",
          "name": "stdout",
          "text": [
            "Enter friends name: alice helen bob\n",
            "bob\n",
            "helen\n",
            "alice\n"
          ]
        }
      ]
    },
    {
      "cell_type": "code",
      "source": [
        "#W2A16\n",
        "print(\"spring\\nsummer\\nautunm\\nwinter\")"
      ],
      "metadata": {
        "colab": {
          "base_uri": "https://localhost:8080/"
        },
        "id": "fC-E264DpPdR",
        "outputId": "f225d4f3-676f-45b4-9bef-f835ad8a1970"
      },
      "execution_count": 30,
      "outputs": [
        {
          "output_type": "stream",
          "name": "stdout",
          "text": [
            "spring\n",
            "summer\n",
            "autunm\n",
            "winter\n"
          ]
        }
      ]
    },
    {
      "cell_type": "code",
      "source": [
        "#W2A17\n",
        "print(\"*\")\n",
        "print(\"***\")\n",
        "print(\"*****\")"
      ],
      "metadata": {
        "colab": {
          "base_uri": "https://localhost:8080/"
        },
        "id": "yKFtuc23puM5",
        "outputId": "2dc2e685-d2da-47e5-c49f-64207513ebb4"
      },
      "execution_count": 32,
      "outputs": [
        {
          "output_type": "stream",
          "name": "stdout",
          "text": [
            "*\n",
            "***\n",
            "*****\n"
          ]
        }
      ]
    },
    {
      "cell_type": "code",
      "source": [
        "#W2A18\n",
        "print(\"###  ##   ### ###\")\n",
        "print(\" #   #  #  #   #\")\n",
        "print(\" #   #   # #   #\")\n",
        "print(\" #   #  #  #   #\")\n",
        "print(\" #   ##    #   #\")"
      ],
      "metadata": {
        "colab": {
          "base_uri": "https://localhost:8080/"
        },
        "id": "iICZ3GaSqRHt",
        "outputId": "0f0f2de0-c2e8-441b-e0fa-41878e813aad"
      },
      "execution_count": 37,
      "outputs": [
        {
          "output_type": "stream",
          "name": "stdout",
          "text": [
            "###  ##   ### ###\n",
            " #   #  #  #   #\n",
            " #   #   # #   #\n",
            " #   #  #  #   #\n",
            " #   ##    #   #\n"
          ]
        }
      ]
    },
    {
      "cell_type": "code",
      "source": [
        "#W2A19\n",
        "print(\"Monday\\nTuesday\\nWednesday\\nThursday\\nFriday\\nSaturday\\nSunday\")"
      ],
      "metadata": {
        "colab": {
          "base_uri": "https://localhost:8080/"
        },
        "id": "feVz_JL7rgj2",
        "outputId": "bb3ce540-4a57-4810-ecaa-b198aa5e939c"
      },
      "execution_count": 39,
      "outputs": [
        {
          "output_type": "stream",
          "name": "stdout",
          "text": [
            "Monday\n",
            "Tuesday\n",
            "Wednesday\n",
            "Thursday\n",
            "Friday\n",
            "Saturday\n",
            "Sunday\n"
          ]
        }
      ]
    },
    {
      "cell_type": "code",
      "source": [
        "#W2A20\n",
        "print(\"January\\nFebruary\\nMarch\\nApril\\nMay\\nJune\\nJuly\\nAugust\\nSeptember\\nOctober\\nNovember\\nDecember\")"
      ],
      "metadata": {
        "colab": {
          "base_uri": "https://localhost:8080/"
        },
        "id": "H--veyFhs95j",
        "outputId": "5dbec88e-5616-4d4a-ce64-eebf57670af6"
      },
      "execution_count": 43,
      "outputs": [
        {
          "output_type": "stream",
          "name": "stdout",
          "text": [
            "January\n",
            "February\n",
            "March\n",
            "April\n",
            "May\n",
            "June\n",
            "July\n",
            "August\n",
            "September\n",
            "October\n",
            "November\n",
            "December\n"
          ]
        }
      ]
    },
    {
      "cell_type": "code",
      "source": [
        "#W2A21\n",
        "for x in range(10):\n",
        "  print(\"Hello, world\")\n",
        "\n"
      ],
      "metadata": {
        "colab": {
          "base_uri": "https://localhost:8080/"
        },
        "id": "dRrAlXkisKT5",
        "outputId": "82125ce6-4dd5-4c3a-8622-3e165a010b22"
      },
      "execution_count": 40,
      "outputs": [
        {
          "output_type": "stream",
          "name": "stdout",
          "text": [
            "Hello, world\n",
            "Hello, world\n",
            "Hello, world\n",
            "Hello, world\n",
            "Hello, world\n",
            "Hello, world\n",
            "Hello, world\n",
            "Hello, world\n",
            "Hello, world\n",
            "Hello, world\n"
          ]
        }
      ]
    }
  ]
}