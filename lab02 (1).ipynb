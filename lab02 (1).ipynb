{
  "nbformat": 4,
  "nbformat_minor": 0,
  "metadata": {
    "colab": {
      "provenance": []
    },
    "kernelspec": {
      "name": "python3",
      "display_name": "Python 3"
    },
    "language_info": {
      "name": "python"
    }
  },
  "cells": [
    {
      "cell_type": "code",
      "execution_count": 2,
      "metadata": {
        "colab": {
          "base_uri": "https://localhost:8080/"
        },
        "id": "1EKTexd5ItbC",
        "outputId": "f1459e1e-f009-4868-dc87-e61159c328ab"
      },
      "outputs": [
        {
          "output_type": "stream",
          "name": "stdout",
          "text": [
            "Nhap so nguyen a: 3\n",
            "Nhap so nguyen b: 4\n",
            "7\n",
            "-1\n",
            "12\n",
            "0.75\n",
            "3\n"
          ]
        }
      ],
      "source": [
        "#W2A3\n",
        "a = int(input(\"Nhap so nguyen a: \"))\n",
        "b = int(input(\"Nhap so nguyen b: \"))\n",
        "print(a + b)\n",
        "print(a - b)\n",
        "print(a*b)\n",
        "print(a/b)\n",
        "print(a%b)"
      ]
    },
    {
      "cell_type": "code",
      "source": [
        "#W2a4\n",
        "a = list(map(float, input(\"diem can nhap: \").split()))\n",
        "print(\"Diem TB: \", ((a[0]+a[1]+a[2])+(a[3]+a[4])*2+a[5]*3)/10)\n"
      ],
      "metadata": {
        "id": "eesAvoV2Jfzw"
      },
      "execution_count": null,
      "outputs": []
    },
    {
      "cell_type": "code",
      "source": [
        "#w2a5\n",
        "a = list(map(int, input(\"so nguyen nhap: \").split()))\n",
        "print(a[0]**a[1])"
      ],
      "metadata": {
        "colab": {
          "base_uri": "https://localhost:8080/"
        },
        "id": "sapY-zV-JvQC",
        "outputId": "443700ae-c3bc-425c-cdaf-f8a6791de08d"
      },
      "execution_count": 6,
      "outputs": [
        {
          "output_type": "stream",
          "name": "stdout",
          "text": [
            "so nguyen nhap: 2 3\n",
            "8\n"
          ]
        }
      ]
    },
    {
      "cell_type": "code",
      "source": [
        "#w2a6\n",
        "ky_tu_thuong = input(\"nhap chu cai: \").strip()\n",
        "ma_unicode = ord(ky_tu_thuong)\n",
        "print(f\"Unicode: {ma_unicode}\")\n",
        "ky_tu_hoa = ky_tu_thuong.upper()\n",
        "print(f\"ky tu in hoa: {ky_tu_hoa}\")"
      ],
      "metadata": {
        "colab": {
          "base_uri": "https://localhost:8080/"
        },
        "id": "baeDqkI4VAxS",
        "outputId": "64c2e5cf-c89a-4d7a-c2e5-7f4a798e7240"
      },
      "execution_count": 22,
      "outputs": [
        {
          "output_type": "stream",
          "name": "stdout",
          "text": [
            "nhap chu cai: a\n",
            "Unicode: 97\n",
            "ky tu in hoa: A\n"
          ]
        }
      ]
    },
    {
      "cell_type": "code",
      "source": [
        "#w2a7\n",
        "print(\"A: \", ((13 ** 2) * 3) + 5)\n",
        "print(\"B: \", 13**2*3 + 5)"
      ],
      "metadata": {
        "colab": {
          "base_uri": "https://localhost:8080/"
        },
        "id": "n5lkaflxKnVw",
        "outputId": "226ba8a8-045a-44c0-c8fb-825daa0fd86c"
      },
      "execution_count": 7,
      "outputs": [
        {
          "output_type": "stream",
          "name": "stdout",
          "text": [
            "A:  512\n",
            "B:  512\n"
          ]
        }
      ]
    },
    {
      "cell_type": "code",
      "source": [
        "#w2a8\n",
        "a = float(input(\"nhiet do C: \"))\n",
        "f = float((a*9/5)+32)\n",
        "nhiet_do_lam_tron = round(f, 2)\n",
        "print(\"nhiet do F: \", nhiet_do_lam_tron)"
      ],
      "metadata": {
        "colab": {
          "base_uri": "https://localhost:8080/"
        },
        "id": "YNrK8h2dLLMj",
        "outputId": "54c7acf9-46b4-49c4-8012-1a1b09b93984"
      },
      "execution_count": 13,
      "outputs": [
        {
          "output_type": "stream",
          "name": "stdout",
          "text": [
            "nhiet do C: 45.678\n",
            "nhiet do F:  114.22\n"
          ]
        }
      ]
    },
    {
      "cell_type": "code",
      "source": [
        "#W2a9\n",
        "a = float(input(\"tien mon do: \"))\n",
        "f = float((a*1.4)+10)\n",
        "tien_mon_lam_tron = round(f, 2)\n",
        "print(\"tien mon do sau thue: \", tien_mon_lam_tron)"
      ],
      "metadata": {
        "colab": {
          "base_uri": "https://localhost:8080/"
        },
        "id": "mwrMn8kdMdvj",
        "outputId": "b852f9d3-1804-408f-823d-ce2339a4645b"
      },
      "execution_count": 15,
      "outputs": [
        {
          "output_type": "stream",
          "name": "stdout",
          "text": [
            "tien mon do: 10\n",
            "tien mon do sau thue:  24.0\n"
          ]
        }
      ]
    },
    {
      "cell_type": "code",
      "source": [
        "#w2a11\n",
        "a = int(input(\"so gio: \"))\n",
        "b = int(input(\"so phut: \"))\n",
        "f = int(a*3600 + b*60)\n",
        "print(\"so giay: \", f)"
      ],
      "metadata": {
        "colab": {
          "base_uri": "https://localhost:8080/"
        },
        "id": "sFMVIR87NQ7R",
        "outputId": "cd5cd5fe-5058-46a2-f5fb-5369edacb8ed"
      },
      "execution_count": 16,
      "outputs": [
        {
          "output_type": "stream",
          "name": "stdout",
          "text": [
            "so gio: 1 \n",
            "so phut: 40\n",
            "so giay:  6000\n"
          ]
        }
      ]
    },
    {
      "cell_type": "code",
      "source": [
        "#w2a12\n",
        "a = int(input(\"so canh: \"))\n",
        "b = int((a*6)*6)\n",
        "print(\"so mieng dan: \", b)"
      ],
      "metadata": {
        "colab": {
          "base_uri": "https://localhost:8080/"
        },
        "id": "KafWi2w1OFLV",
        "outputId": "9ab2e1a0-7c8d-465c-ebc2-108fbc990906"
      },
      "execution_count": 17,
      "outputs": [
        {
          "output_type": "stream",
          "name": "stdout",
          "text": [
            "so canh: 6\n",
            "so mieng dan:  216\n"
          ]
        }
      ]
    },
    {
      "cell_type": "code",
      "source": [
        "#w2a13\n",
        "a = int(input(\"so nguyen a: \"))\n",
        "b = int(input(\"so nguyen b: \"))\n",
        "c = a*b\n",
        "print(\"hang don vi: \", c%10)"
      ],
      "metadata": {
        "colab": {
          "base_uri": "https://localhost:8080/"
        },
        "id": "Ze4PllAqOz8y",
        "outputId": "6a948cac-bdd2-49d9-eb61-4aeb2d504ad6"
      },
      "execution_count": 18,
      "outputs": [
        {
          "output_type": "stream",
          "name": "stdout",
          "text": [
            "so nguyen a: 23\n",
            "so nguyen b: 34\n",
            "hang don vi:  2\n"
          ]
        }
      ]
    },
    {
      "cell_type": "code",
      "source": [
        "#w2a14\n",
        "a = list(map(int, input(\"so nguyen nhap: \").split()))\n",
        "a.reverse()\n",
        "print(a)"
      ],
      "metadata": {
        "colab": {
          "base_uri": "https://localhost:8080/"
        },
        "id": "xgOc2PkwS3HE",
        "outputId": "ac09281f-c839-41b8-a390-90184269ddbd"
      },
      "execution_count": 20,
      "outputs": [
        {
          "output_type": "stream",
          "name": "stdout",
          "text": [
            "so nguyen nhap: 2 3\n",
            "[3, 2]\n"
          ]
        }
      ]
    },
    {
      "cell_type": "code",
      "source": [
        "#w2a14\n",
        "a = int(input(\"so nguyen nhap: \"))\n",
        "b = int(input(\"so nguyen nhap: \"))\n",
        "a, b = b, a\n",
        "print(f\"hoan doi: a = {a}, b = {b}\")"
      ],
      "metadata": {
        "colab": {
          "base_uri": "https://localhost:8080/"
        },
        "id": "QjCSMA0XVWOF",
        "outputId": "3efc7f8d-d4e5-4bf2-8bb4-a9ba13d5a5ae"
      },
      "execution_count": 23,
      "outputs": [
        {
          "output_type": "stream",
          "name": "stdout",
          "text": [
            "so nguyen nhap: 2\n",
            "so nguyen nhap: 3\n",
            "hoan doi: a = 3, b = 2\n"
          ]
        }
      ]
    }
  ]
}